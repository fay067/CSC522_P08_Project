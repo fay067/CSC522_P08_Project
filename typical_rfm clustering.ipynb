{
 "cells": [
  {
   "cell_type": "code",
   "execution_count": 1,
   "metadata": {},
   "outputs": [],
   "source": [
    "%load_ext autoreload\n",
    "%autoreload 2\n",
    "from sklearn.metrics import silhouette_score, silhouette_samples\n",
    "from sklearn.cluster import KMeans\n",
    "from wordcloud import WordCloud, STOPWORDS\n",
    "import matplotlib.pyplot as plt\n",
    "import matplotlib as mpl\n",
    "import matplotlib.cm as cm\n",
    "from importlib import reload\n",
    "from kmeans import *\n",
    "from tf_idf import *\n",
    "from data import *\n",
    "import pandas as pd\n",
    "import numpy as np\n",
    "from rfm import *\n",
    "from evaluation import *"
   ]
  },
  {
   "cell_type": "code",
   "execution_count": 2,
   "metadata": {},
   "outputs": [],
   "source": [
    "df = load_data()"
   ]
  },
  {
   "cell_type": "code",
   "execution_count": 3,
   "metadata": {},
   "outputs": [
    {
     "data": {
      "text/html": [
       "<div>\n",
       "<style scoped>\n",
       "    .dataframe tbody tr th:only-of-type {\n",
       "        vertical-align: middle;\n",
       "    }\n",
       "\n",
       "    .dataframe tbody tr th {\n",
       "        vertical-align: top;\n",
       "    }\n",
       "\n",
       "    .dataframe thead th {\n",
       "        text-align: right;\n",
       "    }\n",
       "</style>\n",
       "<table border=\"1\" class=\"dataframe\">\n",
       "  <thead>\n",
       "    <tr style=\"text-align: right;\">\n",
       "      <th></th>\n",
       "      <th>CustomerID</th>\n",
       "      <th>Frequency</th>\n",
       "      <th>Recency</th>\n",
       "      <th>Monetary</th>\n",
       "    </tr>\n",
       "  </thead>\n",
       "  <tbody>\n",
       "    <tr>\n",
       "      <th>0</th>\n",
       "      <td>17850</td>\n",
       "      <td>34</td>\n",
       "      <td>372</td>\n",
       "      <td>5391.21</td>\n",
       "    </tr>\n",
       "    <tr>\n",
       "      <th>1</th>\n",
       "      <td>13047</td>\n",
       "      <td>9</td>\n",
       "      <td>56</td>\n",
       "      <td>3232.59</td>\n",
       "    </tr>\n",
       "    <tr>\n",
       "      <th>2</th>\n",
       "      <td>12583</td>\n",
       "      <td>15</td>\n",
       "      <td>2</td>\n",
       "      <td>6705.38</td>\n",
       "    </tr>\n",
       "    <tr>\n",
       "      <th>3</th>\n",
       "      <td>13748</td>\n",
       "      <td>5</td>\n",
       "      <td>95</td>\n",
       "      <td>948.25</td>\n",
       "    </tr>\n",
       "    <tr>\n",
       "      <th>4</th>\n",
       "      <td>15100</td>\n",
       "      <td>3</td>\n",
       "      <td>333</td>\n",
       "      <td>876.00</td>\n",
       "    </tr>\n",
       "    <tr>\n",
       "      <th>5</th>\n",
       "      <td>15291</td>\n",
       "      <td>14</td>\n",
       "      <td>25</td>\n",
       "      <td>4623.30</td>\n",
       "    </tr>\n",
       "    <tr>\n",
       "      <th>6</th>\n",
       "      <td>14688</td>\n",
       "      <td>21</td>\n",
       "      <td>7</td>\n",
       "      <td>5579.10</td>\n",
       "    </tr>\n",
       "    <tr>\n",
       "      <th>7</th>\n",
       "      <td>17809</td>\n",
       "      <td>12</td>\n",
       "      <td>16</td>\n",
       "      <td>5411.91</td>\n",
       "    </tr>\n",
       "    <tr>\n",
       "      <th>8</th>\n",
       "      <td>15311</td>\n",
       "      <td>91</td>\n",
       "      <td>0</td>\n",
       "      <td>60632.75</td>\n",
       "    </tr>\n",
       "    <tr>\n",
       "      <th>9</th>\n",
       "      <td>16098</td>\n",
       "      <td>7</td>\n",
       "      <td>87</td>\n",
       "      <td>2005.63</td>\n",
       "    </tr>\n",
       "  </tbody>\n",
       "</table>\n",
       "</div>"
      ],
      "text/plain": [
       "  CustomerID  Frequency  Recency  Monetary\n",
       "0      17850         34      372   5391.21\n",
       "1      13047          9       56   3232.59\n",
       "2      12583         15        2   6705.38\n",
       "3      13748          5       95    948.25\n",
       "4      15100          3      333    876.00\n",
       "5      15291         14       25   4623.30\n",
       "6      14688         21        7   5579.10\n",
       "7      17809         12       16   5411.91\n",
       "8      15311         91        0  60632.75\n",
       "9      16098          7       87   2005.63"
      ]
     },
     "execution_count": 3,
     "metadata": {},
     "output_type": "execute_result"
    }
   ],
   "source": [
    "t_rfm = rfm(df)\n",
    "t_rfm.head(10)"
   ]
  },
  {
   "cell_type": "code",
   "execution_count": 4,
   "metadata": {},
   "outputs": [],
   "source": [
    "matrix = rfm_matrix(t_rfm)\n",
    "sse, sscore, test_range = kmeans(matrix)"
   ]
  },
  {
   "cell_type": "code",
   "execution_count": 5,
   "metadata": {},
   "outputs": [
    {
     "name": "stdout",
     "output_type": "stream",
     "text": [
      "Clusters = 2 ,Silhouette Score = 0.72296\n",
      "Clusters = 3 ,Silhouette Score = 0.64728\n",
      "Clusters = 4 ,Silhouette Score = 0.56299\n",
      "Clusters = 5 ,Silhouette Score = 0.55268\n",
      "Clusters = 6 ,Silhouette Score = 0.56492\n",
      "Clusters = 7 ,Silhouette Score = 0.54457\n",
      "Clusters = 8 ,Silhouette Score = 0.46839\n",
      "Clusters = 9 ,Silhouette Score = 0.45728\n",
      "Clusters = 10 ,Silhouette Score = 0.48847\n",
      "Clusters = 11 ,Silhouette Score = 0.47915\n",
      "Clusters = 12 ,Silhouette Score = 0.47947\n",
      "Clusters = 13 ,Silhouette Score = 0.46406\n",
      "Clusters = 14 ,Silhouette Score = 0.48014\n"
     ]
    },
    {
     "data": {
      "image/png": "[encoded data removed]",
      "text/plain": [
       "<Figure size 576x576 with 1 Axes>"
      ]
     },
     "metadata": {
      "needs_background": "light"
     },
     "output_type": "display_data"
    }
   ],
   "source": [
    "# Plot elbow method\n",
    "plt.figure(figsize=(8, 8))\n",
    "plt.plot(list(test_range), sse, '-o')\n",
    "plt.xlabel('Number of cluster')\n",
    "plt.ylabel('Sum of Square Error')\n",
    "\n",
    "# Display the Silhouette score\n",
    "for n_cluster, score in sscore.items():\n",
    "    print(\"Clusters = {}\".format(n_cluster),\",Silhouette Score = {}\".format(score))"
   ]
  },
  {
   "cell_type": "code",
   "execution_count": null,
   "metadata": {},
   "outputs": [],
   "source": []
  }
 ],
 "metadata": {
  "kernelspec": {
   "display_name": "Python 3",
   "language": "python",
   "name": "python3"
  },
  "language_info": {
   "codemirror_mode": {
    "name": "ipython",
    "version": 3
   },
   "file_extension": ".py",
   "mimetype": "text/x-python",
   "name": "python",
   "nbconvert_exporter": "python",
   "pygments_lexer": "ipython3",
   "version": "3.7.3"
  }
 },
 "nbformat": 4,
 "nbformat_minor": 2
}
