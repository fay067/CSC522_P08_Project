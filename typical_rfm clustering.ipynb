{
 "cells": [
  {
   "cell_type": "code",
   "execution_count": 1,
   "metadata": {},
   "outputs": [],
   "source": [
    "from sklearn.metrics import silhouette_score, silhouette_samples\n",
    "from sklearn.cluster import KMeans\n",
    "from wordcloud import WordCloud, STOPWORDS\n",
    "import matplotlib.pyplot as plt\n",
    "import matplotlib as mpl\n",
    "import matplotlib.cm as cm\n",
    "from importlib import reload\n",
    "from kmeans import *\n",
    "from tf_idf import *\n",
    "from data import *\n",
    "import pandas as pd\n",
    "import numpy as np\n",
    "from rfm import *\n",
    "from evaluation import *"
   ]
  },
  {
   "cell_type": "code",
   "execution_count": 2,
   "metadata": {},
   "outputs": [],
   "source": [
    "df = load_data()"
   ]
  },
  {
   "cell_type": "markdown",
   "metadata": {},
   "source": [
    "# Typical RFM model Analysis "
   ]
  },
  {
   "cell_type": "markdown",
   "metadata": {},
   "source": [
    "## 1. Categorical level RFM with Kmeans++\n",
    "The section we transform the raw data amount from continuous variable into categorical variable with different levels. i.e. from 1 to 5. 5 presents the top 20% of data, 1 presents to the last 20%"
   ]
  },
  {
   "cell_type": "code",
   "execution_count": 3,
   "metadata": {},
   "outputs": [
    {
     "name": "stdout",
     "output_type": "stream",
     "text": [
      "Clusters = 2 ,Silhouette Score = 0.44877\n",
      "Clusters = 3 ,Silhouette Score = 0.38505\n",
      "Clusters = 4 ,Silhouette Score = 0.39822\n",
      "Clusters = 5 ,Silhouette Score = 0.37642\n",
      "Clusters = 6 ,Silhouette Score = 0.37518\n",
      "Clusters = 7 ,Silhouette Score = 0.39081\n",
      "Clusters = 8 ,Silhouette Score = 0.37539\n",
      "Clusters = 9 ,Silhouette Score = 0.37931\n",
      "Clusters = 10 ,Silhouette Score = 0.38034\n",
      "Clusters = 11 ,Silhouette Score = 0.37254\n",
      "Clusters = 12 ,Silhouette Score = 0.39779\n",
      "Clusters = 13 ,Silhouette Score = 0.38274\n",
      "Clusters = 14 ,Silhouette Score = 0.39681\n"
     ]
    },
    {
     "data": {
      "image/png": "[encoded data removed]",
      "text/plain": [
       "<Figure size 576x576 with 1 Axes>"
      ]
     },
     "metadata": {
      "needs_background": "light"
     },
     "output_type": "display_data"
    }
   ],
   "source": [
    "t_rfm = rfm(df)\n",
    "t_rfm_trans = rfm_transform(t_rfm)\n",
    "matrix_trans = rfm_matrix(t_rfm_trans)\n",
    "sse, sscore, test_range = kmeans(matrix_trans)\n",
    "# Plot elbow method\n",
    "plt.figure(figsize=(8, 8))\n",
    "plt.plot(list(test_range), sse, '-o')\n",
    "plt.xlabel('Number of cluster')\n",
    "plt.ylabel('Sum of Square Error')\n",
    "\n",
    "# Display the Silhouette score\n",
    "for n_cluster, score in sscore.items():\n",
    "    print(\"Clusters = {}\".format(n_cluster),\",Silhouette Score = {}\".format(score))"
   ]
  },
  {
   "cell_type": "code",
   "execution_count": 4,
   "metadata": {},
   "outputs": [
    {
     "data": {
      "text/html": [
       "<div>\n",
       "<style scoped>\n",
       "    .dataframe tbody tr th:only-of-type {\n",
       "        vertical-align: middle;\n",
       "    }\n",
       "\n",
       "    .dataframe tbody tr th {\n",
       "        vertical-align: top;\n",
       "    }\n",
       "\n",
       "    .dataframe thead th {\n",
       "        text-align: right;\n",
       "    }\n",
       "</style>\n",
       "<table border=\"1\" class=\"dataframe\">\n",
       "  <thead>\n",
       "    <tr style=\"text-align: right;\">\n",
       "      <th></th>\n",
       "      <th>Cluster</th>\n",
       "      <th>CustomerID</th>\n",
       "    </tr>\n",
       "  </thead>\n",
       "  <tbody>\n",
       "    <tr>\n",
       "      <th>0</th>\n",
       "      <td>0</td>\n",
       "      <td>1190</td>\n",
       "    </tr>\n",
       "    <tr>\n",
       "      <th>1</th>\n",
       "      <td>1</td>\n",
       "      <td>1283</td>\n",
       "    </tr>\n",
       "    <tr>\n",
       "      <th>2</th>\n",
       "      <td>2</td>\n",
       "      <td>895</td>\n",
       "    </tr>\n",
       "    <tr>\n",
       "      <th>3</th>\n",
       "      <td>3</td>\n",
       "      <td>954</td>\n",
       "    </tr>\n",
       "  </tbody>\n",
       "</table>\n",
       "</div>"
      ],
      "text/plain": [
       "   Cluster  CustomerID\n",
       "0        0        1190\n",
       "1        1        1283\n",
       "2        2         895\n",
       "3        3         954"
      ]
     },
     "execution_count": 4,
     "metadata": {},
     "output_type": "execute_result"
    }
   ],
   "source": [
    "clusters_trans = kmeans(matrix = matrix_trans, cluster_num = 4)\n",
    "temp = t_rfm.copy()\n",
    "temp = rfm_write_back(temp,clusters_trans)\n",
    "temp.groupby('Cluster',as_index = False)['CustomerID'].count()"
   ]
  },
  {
   "cell_type": "markdown",
   "metadata": {},
   "source": [
    "## 2. Normalized continuous data RFM with Kmeans"
   ]
  },
  {
   "cell_type": "code",
   "execution_count": 5,
   "metadata": {},
   "outputs": [
    {
     "name": "stdout",
     "output_type": "stream",
     "text": [
      "Clusters = 2 ,Silhouette Score = 0.73375\n",
      "Clusters = 3 ,Silhouette Score = 0.66627\n",
      "Clusters = 4 ,Silhouette Score = 0.59971\n",
      "Clusters = 5 ,Silhouette Score = 0.59711\n",
      "Clusters = 6 ,Silhouette Score = 0.58136\n",
      "Clusters = 7 ,Silhouette Score = 0.57991\n",
      "Clusters = 8 ,Silhouette Score = 0.53318\n",
      "Clusters = 9 ,Silhouette Score = 0.53049\n",
      "Clusters = 10 ,Silhouette Score = 0.53169\n",
      "Clusters = 11 ,Silhouette Score = 0.52271\n",
      "Clusters = 12 ,Silhouette Score = 0.53046\n",
      "Clusters = 13 ,Silhouette Score = 0.52272\n",
      "Clusters = 14 ,Silhouette Score = 0.52001\n"
     ]
    },
    {
     "data": {
      "image/png": "[encoded data removed]",
      "text/plain": [
       "<Figure size 576x576 with 1 Axes>"
      ]
     },
     "metadata": {
      "needs_background": "light"
     },
     "output_type": "display_data"
    }
   ],
   "source": [
    "t_rfm_norm = norm(t_rfm.iloc[:,1:])\n",
    "matrix_norm = rfm_matrix(t_rfm_norm)\n",
    "sse, sscore, test_range = kmeans(matrix_norm)\n",
    "# Plot elbow method\n",
    "plt.figure(figsize=(8, 8))\n",
    "plt.plot(list(test_range), sse, '-o')\n",
    "plt.xlabel('Number of cluster')\n",
    "plt.ylabel('Sum of Square Error')\n",
    "\n",
    "# Display the Silhouette score\n",
    "for n_cluster, score in sscore.items():\n",
    "    print(\"Clusters = {}\".format(n_cluster),\",Silhouette Score = {}\".format(score))"
   ]
  },
  {
   "cell_type": "code",
   "execution_count": 10,
   "metadata": {},
   "outputs": [
    {
     "data": {
      "text/html": [
       "<div>\n",
       "<style scoped>\n",
       "    .dataframe tbody tr th:only-of-type {\n",
       "        vertical-align: middle;\n",
       "    }\n",
       "\n",
       "    .dataframe tbody tr th {\n",
       "        vertical-align: top;\n",
       "    }\n",
       "\n",
       "    .dataframe thead th {\n",
       "        text-align: right;\n",
       "    }\n",
       "</style>\n",
       "<table border=\"1\" class=\"dataframe\">\n",
       "  <thead>\n",
       "    <tr style=\"text-align: right;\">\n",
       "      <th></th>\n",
       "      <th>Cluster</th>\n",
       "      <th>CustomerID</th>\n",
       "    </tr>\n",
       "  </thead>\n",
       "  <tbody>\n",
       "    <tr>\n",
       "      <th>0</th>\n",
       "      <td>0</td>\n",
       "      <td>627</td>\n",
       "    </tr>\n",
       "    <tr>\n",
       "      <th>1</th>\n",
       "      <td>1</td>\n",
       "      <td>2577</td>\n",
       "    </tr>\n",
       "    <tr>\n",
       "      <th>2</th>\n",
       "      <td>2</td>\n",
       "      <td>293</td>\n",
       "    </tr>\n",
       "    <tr>\n",
       "      <th>3</th>\n",
       "      <td>3</td>\n",
       "      <td>515</td>\n",
       "    </tr>\n",
       "    <tr>\n",
       "      <th>4</th>\n",
       "      <td>4</td>\n",
       "      <td>310</td>\n",
       "    </tr>\n",
       "  </tbody>\n",
       "</table>\n",
       "</div>"
      ],
      "text/plain": [
       "   Cluster  CustomerID\n",
       "0        0         627\n",
       "1        1        2577\n",
       "2        2         293\n",
       "3        3         515\n",
       "4        4         310"
      ]
     },
     "execution_count": 10,
     "metadata": {},
     "output_type": "execute_result"
    }
   ],
   "source": [
    "clusters_norm = kmeans(matrix = matrix_norm, cluster_num = 5)\n",
    "temp = rfm_write_back(temp,clusters_norm)\n",
    "temp.groupby('Cluster',as_index = False)['CustomerID'].count()"
   ]
  },
  {
   "cell_type": "markdown",
   "metadata": {},
   "source": [
    "## 3. Categorical level RFM with DBSCAN"
   ]
  },
  {
   "cell_type": "code",
   "execution_count": 7,
   "metadata": {},
   "outputs": [
    {
     "name": "stdout",
     "output_type": "stream",
     "text": [
      "13\n"
     ]
    },
    {
     "data": {
      "text/html": [
       "<div>\n",
       "<style scoped>\n",
       "    .dataframe tbody tr th:only-of-type {\n",
       "        vertical-align: middle;\n",
       "    }\n",
       "\n",
       "    .dataframe tbody tr th {\n",
       "        vertical-align: top;\n",
       "    }\n",
       "\n",
       "    .dataframe thead th {\n",
       "        text-align: right;\n",
       "    }\n",
       "</style>\n",
       "<table border=\"1\" class=\"dataframe\">\n",
       "  <thead>\n",
       "    <tr style=\"text-align: right;\">\n",
       "      <th></th>\n",
       "      <th>DBcluster</th>\n",
       "      <th>Frequency</th>\n",
       "      <th>Recency</th>\n",
       "      <th>Monetary</th>\n",
       "    </tr>\n",
       "  </thead>\n",
       "  <tbody>\n",
       "    <tr>\n",
       "      <th>0</th>\n",
       "      <td>-1</td>\n",
       "      <td>2530</td>\n",
       "      <td>2530</td>\n",
       "      <td>2530</td>\n",
       "    </tr>\n",
       "    <tr>\n",
       "      <th>1</th>\n",
       "      <td>0</td>\n",
       "      <td>215</td>\n",
       "      <td>215</td>\n",
       "      <td>215</td>\n",
       "    </tr>\n",
       "    <tr>\n",
       "      <th>2</th>\n",
       "      <td>1</td>\n",
       "      <td>136</td>\n",
       "      <td>136</td>\n",
       "      <td>136</td>\n",
       "    </tr>\n",
       "    <tr>\n",
       "      <th>3</th>\n",
       "      <td>2</td>\n",
       "      <td>88</td>\n",
       "      <td>88</td>\n",
       "      <td>88</td>\n",
       "    </tr>\n",
       "    <tr>\n",
       "      <th>4</th>\n",
       "      <td>3</td>\n",
       "      <td>91</td>\n",
       "      <td>91</td>\n",
       "      <td>91</td>\n",
       "    </tr>\n",
       "    <tr>\n",
       "      <th>5</th>\n",
       "      <td>4</td>\n",
       "      <td>120</td>\n",
       "      <td>120</td>\n",
       "      <td>120</td>\n",
       "    </tr>\n",
       "    <tr>\n",
       "      <th>6</th>\n",
       "      <td>5</td>\n",
       "      <td>106</td>\n",
       "      <td>106</td>\n",
       "      <td>106</td>\n",
       "    </tr>\n",
       "    <tr>\n",
       "      <th>7</th>\n",
       "      <td>6</td>\n",
       "      <td>142</td>\n",
       "      <td>142</td>\n",
       "      <td>142</td>\n",
       "    </tr>\n",
       "    <tr>\n",
       "      <th>8</th>\n",
       "      <td>7</td>\n",
       "      <td>108</td>\n",
       "      <td>108</td>\n",
       "      <td>108</td>\n",
       "    </tr>\n",
       "    <tr>\n",
       "      <th>9</th>\n",
       "      <td>8</td>\n",
       "      <td>96</td>\n",
       "      <td>96</td>\n",
       "      <td>96</td>\n",
       "    </tr>\n",
       "    <tr>\n",
       "      <th>10</th>\n",
       "      <td>9</td>\n",
       "      <td>85</td>\n",
       "      <td>85</td>\n",
       "      <td>85</td>\n",
       "    </tr>\n",
       "    <tr>\n",
       "      <th>11</th>\n",
       "      <td>10</td>\n",
       "      <td>348</td>\n",
       "      <td>348</td>\n",
       "      <td>348</td>\n",
       "    </tr>\n",
       "    <tr>\n",
       "      <th>12</th>\n",
       "      <td>11</td>\n",
       "      <td>176</td>\n",
       "      <td>176</td>\n",
       "      <td>176</td>\n",
       "    </tr>\n",
       "    <tr>\n",
       "      <th>13</th>\n",
       "      <td>12</td>\n",
       "      <td>81</td>\n",
       "      <td>81</td>\n",
       "      <td>81</td>\n",
       "    </tr>\n",
       "  </tbody>\n",
       "</table>\n",
       "</div>"
      ],
      "text/plain": [
       "    DBcluster  Frequency  Recency  Monetary\n",
       "0          -1       2530     2530      2530\n",
       "1           0        215      215       215\n",
       "2           1        136      136       136\n",
       "3           2         88       88        88\n",
       "4           3         91       91        91\n",
       "5           4        120      120       120\n",
       "6           5        106      106       106\n",
       "7           6        142      142       142\n",
       "8           7        108      108       108\n",
       "9           8         96       96        96\n",
       "10          9         85       85        85\n",
       "11         10        348      348       348\n",
       "12         11        176      176       176\n",
       "13         12         81       81        81"
      ]
     },
     "execution_count": 7,
     "metadata": {},
     "output_type": "execute_result"
    }
   ],
   "source": [
    "from sklearn.cluster import DBSCAN\n",
    "X_trans = t_rfm_trans.iloc[:,1:]\n",
    "db = DBSCAN(eps= 0.2, min_samples=80).fit(X_trans)\n",
    "labels_trans = db.labels_\n",
    "n_clusters_trans = len(set(labels_trans)) - (1 if -1 in labels_trans else 0)\n",
    "print(n_clusters_trans)\n",
    "X_trans['DBcluster'] = labels_trans\n",
    "X_trans.groupby(\"DBcluster\", as_index = False).count()"
   ]
  },
  {
   "cell_type": "markdown",
   "metadata": {},
   "source": [
    "## 4. Normalized continuous data RFM with Kmeans"
   ]
  },
  {
   "cell_type": "code",
   "execution_count": 8,
   "metadata": {},
   "outputs": [
    {
     "name": "stdout",
     "output_type": "stream",
     "text": [
      "8\n"
     ]
    },
    {
     "data": {
      "text/html": [
       "<div>\n",
       "<style scoped>\n",
       "    .dataframe tbody tr th:only-of-type {\n",
       "        vertical-align: middle;\n",
       "    }\n",
       "\n",
       "    .dataframe tbody tr th {\n",
       "        vertical-align: top;\n",
       "    }\n",
       "\n",
       "    .dataframe thead th {\n",
       "        text-align: right;\n",
       "    }\n",
       "</style>\n",
       "<table border=\"1\" class=\"dataframe\">\n",
       "  <thead>\n",
       "    <tr style=\"text-align: right;\">\n",
       "      <th></th>\n",
       "      <th>DBcluster</th>\n",
       "      <th>Frequency</th>\n",
       "      <th>Recency</th>\n",
       "      <th>Monetary</th>\n",
       "    </tr>\n",
       "  </thead>\n",
       "  <tbody>\n",
       "    <tr>\n",
       "      <th>0</th>\n",
       "      <td>-1</td>\n",
       "      <td>516</td>\n",
       "      <td>516</td>\n",
       "      <td>516</td>\n",
       "    </tr>\n",
       "    <tr>\n",
       "      <th>1</th>\n",
       "      <td>0</td>\n",
       "      <td>111</td>\n",
       "      <td>111</td>\n",
       "      <td>111</td>\n",
       "    </tr>\n",
       "    <tr>\n",
       "      <th>2</th>\n",
       "      <td>1</td>\n",
       "      <td>2577</td>\n",
       "      <td>2577</td>\n",
       "      <td>2577</td>\n",
       "    </tr>\n",
       "    <tr>\n",
       "      <th>3</th>\n",
       "      <td>2</td>\n",
       "      <td>310</td>\n",
       "      <td>310</td>\n",
       "      <td>310</td>\n",
       "    </tr>\n",
       "    <tr>\n",
       "      <th>4</th>\n",
       "      <td>3</td>\n",
       "      <td>418</td>\n",
       "      <td>418</td>\n",
       "      <td>418</td>\n",
       "    </tr>\n",
       "    <tr>\n",
       "      <th>5</th>\n",
       "      <td>4</td>\n",
       "      <td>97</td>\n",
       "      <td>97</td>\n",
       "      <td>97</td>\n",
       "    </tr>\n",
       "    <tr>\n",
       "      <th>6</th>\n",
       "      <td>5</td>\n",
       "      <td>248</td>\n",
       "      <td>248</td>\n",
       "      <td>248</td>\n",
       "    </tr>\n",
       "    <tr>\n",
       "      <th>7</th>\n",
       "      <td>6</td>\n",
       "      <td>30</td>\n",
       "      <td>30</td>\n",
       "      <td>30</td>\n",
       "    </tr>\n",
       "    <tr>\n",
       "      <th>8</th>\n",
       "      <td>7</td>\n",
       "      <td>15</td>\n",
       "      <td>15</td>\n",
       "      <td>15</td>\n",
       "    </tr>\n",
       "  </tbody>\n",
       "</table>\n",
       "</div>"
      ],
      "text/plain": [
       "   DBcluster  Frequency  Recency  Monetary\n",
       "0         -1        516      516       516\n",
       "1          0        111      111       111\n",
       "2          1       2577     2577      2577\n",
       "3          2        310      310       310\n",
       "4          3        418      418       418\n",
       "5          4         97       97        97\n",
       "6          5        248      248       248\n",
       "7          6         30       30        30\n",
       "8          7         15       15        15"
      ]
     },
     "execution_count": 8,
     "metadata": {},
     "output_type": "execute_result"
    }
   ],
   "source": [
    "X_norm = norm(t_rfm.iloc[:,1:])\n",
    "db = DBSCAN(eps=0.01, min_samples=25).fit(X_norm)\n",
    "labels_norm = db.labels_\n",
    "n_clusters_norm = len(set(labels_norm)) - (1 if -1 in labels_norm else 0)\n",
    "print(n_clusters_norm)\n",
    "X_norm['DBcluster'] = labels_norm\n",
    "X_norm.groupby(\"DBcluster\", as_index = False).count()"
   ]
  },
  {
   "cell_type": "markdown",
   "metadata": {},
   "source": [
    "## 5. Compute the score with results of the clusters above"
   ]
  },
  {
   "cell_type": "code",
   "execution_count": 11,
   "metadata": {},
   "outputs": [
    {
     "name": "stderr",
     "output_type": "stream",
     "text": [
      "/usr/local/lib/python3.7/site-packages/sklearn/metrics/cluster/unsupervised.py:342: RuntimeWarning: divide by zero encountered in true_divide\n",
      "  score = (intra_dists[:, None] + intra_dists) / centroid_distances\n",
      "/usr/local/lib/python3.7/site-packages/sklearn/metrics/cluster/unsupervised.py:342: RuntimeWarning: divide by zero encountered in true_divide\n",
      "  score = (intra_dists[:, None] + intra_dists) / centroid_distances\n",
      "/usr/local/lib/python3.7/site-packages/sklearn/metrics/cluster/unsupervised.py:342: RuntimeWarning: divide by zero encountered in true_divide\n",
      "  score = (intra_dists[:, None] + intra_dists) / centroid_distances\n",
      "/usr/local/lib/python3.7/site-packages/sklearn/metrics/cluster/unsupervised.py:342: RuntimeWarning: invalid value encountered in true_divide\n",
      "  score = (intra_dists[:, None] + intra_dists) / centroid_distances\n",
      "/usr/local/lib/python3.7/site-packages/sklearn/metrics/cluster/unsupervised.py:342: RuntimeWarning: divide by zero encountered in true_divide\n",
      "  score = (intra_dists[:, None] + intra_dists) / centroid_distances\n"
     ]
    },
    {
     "name": "stdout",
     "output_type": "stream",
     "text": [
      "                            Model Silhouette Coefficient  \\\n",
      "0  Categorical RFM trans Kmeans++                0.17902   \n",
      "1               Norm RFM Kmeans++                 0.8541   \n",
      "2          Categorical RFM DBSCAN                  0.551   \n",
      "3                 Norm RFM DBSCAN                0.91559   \n",
      "\n",
      "  Calinski-Harabaz Index Davies-Bouldin Index  \n",
      "0             1120.11082              1.44231  \n",
      "1                27387.7              0.31676  \n",
      "2                3037.53               0.3226  \n",
      "3                95902.8              0.09334  \n"
     ]
    }
   ],
   "source": [
    "result = get_score(matrix_trans,clusters_trans,'Categorical RFM trans Kmeans++')\n",
    "result = get_score(matrix_norm,clusters_norm,'Norm RFM Kmeans++',result,flag=1)\n",
    "matrix_trans = X_trans.values\n",
    "result = get_score(matrix_trans,labels_trans,'Categorical RFM DBSCAN',result,flag=1)\n",
    "matrix_norm = X_norm.values\n",
    "result = get_score(matrix_norm,labels_norm,'Norm RFM DBSCAN',result,flag=1)\n",
    "print(result)"
   ]
  },
  {
   "cell_type": "code",
   "execution_count": null,
   "metadata": {},
   "outputs": [],
   "source": []
  }
 ],
 "metadata": {
  "kernelspec": {
   "display_name": "Python 3",
   "language": "python",
   "name": "python3"
  },
  "language_info": {
   "codemirror_mode": {
    "name": "ipython",
    "version": 3
   },
   "file_extension": ".py",
   "mimetype": "text/x-python",
   "name": "python",
   "nbconvert_exporter": "python",
   "pygments_lexer": "ipython3",
   "version": "3.7.3"
  }
 },
 "nbformat": 4,
 "nbformat_minor": 2
}
